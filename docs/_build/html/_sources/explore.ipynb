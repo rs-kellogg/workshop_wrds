{
 "cells": [
  {
   "cell_type": "markdown",
   "metadata": {},
   "source": [
    "# <span style=\"color:purple\">Exploring Datasets and Tables</span>"
   ]
  },
  {
   "cell_type": "markdown",
   "metadata": {},
   "source": [
    "Import the `wrds` package in python, along with any other packages you will use."
   ]
  },
  {
   "cell_type": "code",
   "execution_count": 1,
   "metadata": {},
   "outputs": [],
   "source": [
    "# packages\n",
    "import wrds\n",
    "import pandas as pd"
   ]
  },
  {
   "cell_type": "markdown",
   "metadata": {},
   "source": [
    "Once you have a hidden pgpass file saved, you will not have to enter your crednetials the next time you login to the **WRDS** API in python."
   ]
  },
  {
   "cell_type": "code",
   "execution_count": 2,
   "metadata": {},
   "outputs": [
    {
     "name": "stdout",
     "output_type": "stream",
     "text": [
      "Loading library list...\n",
      "Done\n"
     ]
    }
   ],
   "source": [
    "conn = wrds.Connection(wrds_username='ambreen')"
   ]
  },
  {
   "cell_type": "markdown",
   "metadata": {},
   "source": [
    "These are the available functions in the `wrds` package:¶"
   ]
  },
  {
   "cell_type": "markdown",
   "metadata": {},
   "source": [
    "* `conn.connection()` - setup\n",
    "* `conn.list_libraries()` - explore\n",
    "* `conn.list_tables()` - explore\n",
    "* `conn.describe_table()` - explore\n",
    "* `conn.get_table()` - queries\n",
    "* `conn.raw_sql()` - queries"
   ]
  },
  {
   "cell_type": "markdown",
   "metadata": {},
   "source": [
    "To get details on any of these functions."
   ]
  },
  {
   "cell_type": "code",
   "execution_count": 3,
   "metadata": {},
   "outputs": [
    {
     "name": "stdout",
     "output_type": "stream",
     "text": [
      "Help on method list_libraries in module wrds.sql:\n",
      "\n",
      "list_libraries() method of wrds.sql.Connection instance\n",
      "    Return all the libraries (schemas) the user can access.\n",
      "    \n",
      "    :rtype: list\n",
      "    \n",
      "    Usage::\n",
      "    >>> db.list_libraries()\n",
      "    ['aha', 'audit', 'block', 'boardex', ...]\n",
      "\n"
     ]
    }
   ],
   "source": [
    "help(conn.list_libraries)"
   ]
  },
  {
   "cell_type": "markdown",
   "metadata": {},
   "source": [
    "#### To get a list of all WRDS libraries or databases"
   ]
  },
  {
   "cell_type": "code",
   "execution_count": 4,
   "metadata": {},
   "outputs": [
    {
     "data": {
      "text/plain": [
       "['aha_sample', 'ahasamp', 'audit', 'audit_audit_comp', 'audit_common']"
      ]
     },
     "execution_count": 4,
     "metadata": {},
     "output_type": "execute_result"
    }
   ],
   "source": [
    "conn.list_libraries()[0:5]"
   ]
  },
  {
   "cell_type": "markdown",
   "metadata": {},
   "source": [
    "#### To find all the tables in certain Compustat or Orbis databases.  "
   ]
  },
  {
   "cell_type": "code",
   "execution_count": 5,
   "metadata": {},
   "outputs": [
    {
     "data": {
      "text/plain": [
       "['aco_amda', 'aco_imda', 'aco_indfnta', 'aco_indfntq', 'aco_indfntytd']"
      ]
     },
     "execution_count": 5,
     "metadata": {},
     "output_type": "execute_result"
    }
   ],
   "source": [
    "conn.list_tables(library='comp_na_annual_all')[0:5]"
   ]
  },
  {
   "cell_type": "code",
   "execution_count": 6,
   "metadata": {},
   "outputs": [
    {
     "data": {
      "text/plain": [
       "['ob_additional_company_info_l',\n",
       " 'ob_all_addresses_l',\n",
       " 'ob_all_cur_shh_1st_level_l',\n",
       " 'ob_all_subs_first_level_l',\n",
       " 'ob_auditors_current_l']"
      ]
     },
     "execution_count": 6,
     "metadata": {},
     "output_type": "execute_result"
    }
   ],
   "source": [
    "conn.list_tables(library='bvd_orbis_large')[0:5]"
   ]
  },
  {
   "cell_type": "markdown",
   "metadata": {},
   "source": [
    "To find a list of datasets by vendor, go here: \n",
    "\n",
    "To find table descriptions and variable definitions, go:\n",
    "https://wrds-www.wharton.upenn.edu/pages/about/data-vendors\n",
    "\n",
    "* here for Compustat: \n",
    "\n",
    "* here for BVD Orbis: https://wrds-www.wharton.upenn.edu/pages/about/data-vendors/bureau-van-dijk-bvd/"
   ]
  },
  {
   "cell_type": "markdown",
   "metadata": {},
   "source": [
    "To find a description of a particular table in a database."
   ]
  },
  {
   "cell_type": "code",
   "execution_count": 7,
   "metadata": {},
   "outputs": [
    {
     "name": "stdout",
     "output_type": "stream",
     "text": [
      "Approximately 15760231 rows in bvd_orbis_large.ob_key_financials_l.\n"
     ]
    },
    {
     "data": {
      "text/html": [
       "<div>\n",
       "<style scoped>\n",
       "    .dataframe tbody tr th:only-of-type {\n",
       "        vertical-align: middle;\n",
       "    }\n",
       "\n",
       "    .dataframe tbody tr th {\n",
       "        vertical-align: top;\n",
       "    }\n",
       "\n",
       "    .dataframe thead th {\n",
       "        text-align: right;\n",
       "    }\n",
       "</style>\n",
       "<table border=\"1\" class=\"dataframe\">\n",
       "  <thead>\n",
       "    <tr style=\"text-align: right;\">\n",
       "      <th></th>\n",
       "      <th>name</th>\n",
       "      <th>nullable</th>\n",
       "      <th>type</th>\n",
       "      <th>comment</th>\n",
       "    </tr>\n",
       "  </thead>\n",
       "  <tbody>\n",
       "    <tr>\n",
       "      <th>0</th>\n",
       "      <td>bvdid</td>\n",
       "      <td>True</td>\n",
       "      <td>VARCHAR(50)</td>\n",
       "      <td>None</td>\n",
       "    </tr>\n",
       "    <tr>\n",
       "      <th>1</th>\n",
       "      <td>category_of_company</td>\n",
       "      <td>True</td>\n",
       "      <td>VARCHAR(20)</td>\n",
       "      <td>None</td>\n",
       "    </tr>\n",
       "    <tr>\n",
       "      <th>2</th>\n",
       "      <td>ctryiso</td>\n",
       "      <td>True</td>\n",
       "      <td>VARCHAR(2)</td>\n",
       "      <td>None</td>\n",
       "    </tr>\n",
       "    <tr>\n",
       "      <th>3</th>\n",
       "      <td>conscode</td>\n",
       "      <td>True</td>\n",
       "      <td>VARCHAR(2)</td>\n",
       "      <td>None</td>\n",
       "    </tr>\n",
       "    <tr>\n",
       "      <th>4</th>\n",
       "      <td>filing_type</td>\n",
       "      <td>True</td>\n",
       "      <td>VARCHAR(25)</td>\n",
       "      <td>None</td>\n",
       "    </tr>\n",
       "    <tr>\n",
       "      <th>5</th>\n",
       "      <td>closdate</td>\n",
       "      <td>True</td>\n",
       "      <td>DATE</td>\n",
       "      <td>None</td>\n",
       "    </tr>\n",
       "    <tr>\n",
       "      <th>6</th>\n",
       "      <td>closdate_year</td>\n",
       "      <td>True</td>\n",
       "      <td>DOUBLE_PRECISION</td>\n",
       "      <td>None</td>\n",
       "    </tr>\n",
       "    <tr>\n",
       "      <th>7</th>\n",
       "      <td>nr_months</td>\n",
       "      <td>True</td>\n",
       "      <td>VARCHAR(2)</td>\n",
       "      <td>None</td>\n",
       "    </tr>\n",
       "    <tr>\n",
       "      <th>8</th>\n",
       "      <td>audstatus</td>\n",
       "      <td>True</td>\n",
       "      <td>VARCHAR(25)</td>\n",
       "      <td>None</td>\n",
       "    </tr>\n",
       "    <tr>\n",
       "      <th>9</th>\n",
       "      <td>accpractice</td>\n",
       "      <td>True</td>\n",
       "      <td>VARCHAR(25)</td>\n",
       "      <td>None</td>\n",
       "    </tr>\n",
       "    <tr>\n",
       "      <th>10</th>\n",
       "      <td>source</td>\n",
       "      <td>True</td>\n",
       "      <td>VARCHAR(50)</td>\n",
       "      <td>None</td>\n",
       "    </tr>\n",
       "    <tr>\n",
       "      <th>11</th>\n",
       "      <td>orig_units</td>\n",
       "      <td>True</td>\n",
       "      <td>VARCHAR(25)</td>\n",
       "      <td>None</td>\n",
       "    </tr>\n",
       "    <tr>\n",
       "      <th>12</th>\n",
       "      <td>orig_currency</td>\n",
       "      <td>True</td>\n",
       "      <td>VARCHAR(3)</td>\n",
       "      <td>None</td>\n",
       "    </tr>\n",
       "    <tr>\n",
       "      <th>13</th>\n",
       "      <td>exchrate</td>\n",
       "      <td>True</td>\n",
       "      <td>DOUBLE_PRECISION</td>\n",
       "      <td>None</td>\n",
       "    </tr>\n",
       "    <tr>\n",
       "      <th>14</th>\n",
       "      <td>opre</td>\n",
       "      <td>True</td>\n",
       "      <td>DOUBLE_PRECISION</td>\n",
       "      <td>None</td>\n",
       "    </tr>\n",
       "    <tr>\n",
       "      <th>15</th>\n",
       "      <td>plbt</td>\n",
       "      <td>True</td>\n",
       "      <td>DOUBLE_PRECISION</td>\n",
       "      <td>None</td>\n",
       "    </tr>\n",
       "    <tr>\n",
       "      <th>16</th>\n",
       "      <td>pl</td>\n",
       "      <td>True</td>\n",
       "      <td>DOUBLE_PRECISION</td>\n",
       "      <td>None</td>\n",
       "    </tr>\n",
       "    <tr>\n",
       "      <th>17</th>\n",
       "      <td>cf</td>\n",
       "      <td>True</td>\n",
       "      <td>DOUBLE_PRECISION</td>\n",
       "      <td>None</td>\n",
       "    </tr>\n",
       "    <tr>\n",
       "      <th>18</th>\n",
       "      <td>toas</td>\n",
       "      <td>True</td>\n",
       "      <td>DOUBLE_PRECISION</td>\n",
       "      <td>None</td>\n",
       "    </tr>\n",
       "    <tr>\n",
       "      <th>19</th>\n",
       "      <td>shfd</td>\n",
       "      <td>True</td>\n",
       "      <td>DOUBLE_PRECISION</td>\n",
       "      <td>None</td>\n",
       "    </tr>\n",
       "    <tr>\n",
       "      <th>20</th>\n",
       "      <td>curr</td>\n",
       "      <td>True</td>\n",
       "      <td>DOUBLE_PRECISION</td>\n",
       "      <td>None</td>\n",
       "    </tr>\n",
       "    <tr>\n",
       "      <th>21</th>\n",
       "      <td>prma</td>\n",
       "      <td>True</td>\n",
       "      <td>DOUBLE_PRECISION</td>\n",
       "      <td>None</td>\n",
       "    </tr>\n",
       "    <tr>\n",
       "      <th>22</th>\n",
       "      <td>rshf</td>\n",
       "      <td>True</td>\n",
       "      <td>DOUBLE_PRECISION</td>\n",
       "      <td>None</td>\n",
       "    </tr>\n",
       "    <tr>\n",
       "      <th>23</th>\n",
       "      <td>rcem</td>\n",
       "      <td>True</td>\n",
       "      <td>DOUBLE_PRECISION</td>\n",
       "      <td>None</td>\n",
       "    </tr>\n",
       "    <tr>\n",
       "      <th>24</th>\n",
       "      <td>solr</td>\n",
       "      <td>True</td>\n",
       "      <td>DOUBLE_PRECISION</td>\n",
       "      <td>None</td>\n",
       "    </tr>\n",
       "    <tr>\n",
       "      <th>25</th>\n",
       "      <td>_611</td>\n",
       "      <td>True</td>\n",
       "      <td>DOUBLE_PRECISION</td>\n",
       "      <td>None</td>\n",
       "    </tr>\n",
       "    <tr>\n",
       "      <th>26</th>\n",
       "      <td>empl</td>\n",
       "      <td>True</td>\n",
       "      <td>DOUBLE_PRECISION</td>\n",
       "      <td>None</td>\n",
       "    </tr>\n",
       "    <tr>\n",
       "      <th>27</th>\n",
       "      <td>astk_market_cap</td>\n",
       "      <td>True</td>\n",
       "      <td>DOUBLE_PRECISION</td>\n",
       "      <td>None</td>\n",
       "    </tr>\n",
       "  </tbody>\n",
       "</table>\n",
       "</div>"
      ],
      "text/plain": [
       "                   name  nullable              type comment\n",
       "0                 bvdid      True       VARCHAR(50)    None\n",
       "1   category_of_company      True       VARCHAR(20)    None\n",
       "2               ctryiso      True        VARCHAR(2)    None\n",
       "3              conscode      True        VARCHAR(2)    None\n",
       "4           filing_type      True       VARCHAR(25)    None\n",
       "5              closdate      True              DATE    None\n",
       "6         closdate_year      True  DOUBLE_PRECISION    None\n",
       "7             nr_months      True        VARCHAR(2)    None\n",
       "8             audstatus      True       VARCHAR(25)    None\n",
       "9           accpractice      True       VARCHAR(25)    None\n",
       "10               source      True       VARCHAR(50)    None\n",
       "11           orig_units      True       VARCHAR(25)    None\n",
       "12        orig_currency      True        VARCHAR(3)    None\n",
       "13             exchrate      True  DOUBLE_PRECISION    None\n",
       "14                 opre      True  DOUBLE_PRECISION    None\n",
       "15                 plbt      True  DOUBLE_PRECISION    None\n",
       "16                   pl      True  DOUBLE_PRECISION    None\n",
       "17                   cf      True  DOUBLE_PRECISION    None\n",
       "18                 toas      True  DOUBLE_PRECISION    None\n",
       "19                 shfd      True  DOUBLE_PRECISION    None\n",
       "20                 curr      True  DOUBLE_PRECISION    None\n",
       "21                 prma      True  DOUBLE_PRECISION    None\n",
       "22                 rshf      True  DOUBLE_PRECISION    None\n",
       "23                 rcem      True  DOUBLE_PRECISION    None\n",
       "24                 solr      True  DOUBLE_PRECISION    None\n",
       "25                 _611      True  DOUBLE_PRECISION    None\n",
       "26                 empl      True  DOUBLE_PRECISION    None\n",
       "27      astk_market_cap      True  DOUBLE_PRECISION    None"
      ]
     },
     "execution_count": 7,
     "metadata": {},
     "output_type": "execute_result"
    }
   ],
   "source": [
    "conn.describe_table(library='bvd_orbis_large', table='ob_key_financials_l')"
   ]
  }
 ],
 "metadata": {
  "kernelspec": {
   "display_name": "Python 3 (ipykernel)",
   "language": "python",
   "name": "python3"
  },
  "language_info": {
   "codemirror_mode": {
    "name": "ipython",
    "version": 3
   },
   "file_extension": ".py",
   "mimetype": "text/x-python",
   "name": "python",
   "nbconvert_exporter": "python",
   "pygments_lexer": "ipython3",
   "version": "3.11.0"
  }
 },
 "nbformat": 4,
 "nbformat_minor": 2
}
