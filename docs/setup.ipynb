{
 "cells": [
  {
   "cell_type": "markdown",
   "metadata": {},
   "source": [
    "# <span style=\"color:purple\">Setup - Authenticate to WRDS</span>\n",
    "\n",
    "### <span style=\"color:purple\">_Make a Hidden Credential File_</span>"
   ]
  },
  {
   "cell_type": "markdown",
   "metadata": {},
   "source": [
    " In order to connect to **WRDS** remotely, you will first need to create a <span style=\"color:purple\">**.pgpass**</span> file.  You can place this file in your KLC home directory.  On KLC, navigate to your home directory.  From a terminal session, choose your preferred text editor to create a file. Below we are using the\n",
    "nano editor. Please refer to the text editor on KLC video demo if you need a refresher."
   ]
  },
  {
   "cell_type": "code",
   "execution_count": null,
   "metadata": {},
   "outputs": [],
   "source": [
    "! cd ~\n",
    "! nano .pgpass"
   ]
  },
  {
   "cell_type": "markdown",
   "metadata": {
    "vscode": {
     "languageId": "raw"
    }
   },
   "source": [
    "Within this hidden pgpass file, save one line with your WRDS login credentials:"
   ]
  },
  {
   "cell_type": "markdown",
   "metadata": {},
   "source": [
    "`wrds-pgdata.wharton.upenn.edu:9737:wrds:user_name:password`\n",
    "\n",
    "You can view the contents of this file with: "
   ]
  },
  {
   "cell_type": "code",
   "execution_count": 1,
   "metadata": {},
   "outputs": [
    {
     "name": "stdout",
     "output_type": "stream",
     "text": [
      "wrds-pgdata.wharton.upenn.edu:9737:wrds:best-user-ever:passwordy-goodness\n"
     ]
    }
   ],
   "source": [
    "# To view the contents of this file, you should actually type:\n",
    "! head ~/.pgpass"
   ]
  },
  {
   "cell_type": "markdown",
   "metadata": {},
   "source": [
    "### <span style=\"color:purple\">_Connecting through Python_</span>\n",
    "\n",
    "To connect to the **WRDS** API through Python, install the `wrds` package. From the command line, type:"
   ]
  },
  {
   "cell_type": "code",
   "execution_count": null,
   "metadata": {},
   "outputs": [],
   "source": [
    "# install the `wrds` package.\n",
    "! pip install wrds"
   ]
  },
  {
   "cell_type": "markdown",
   "metadata": {},
   "source": [
    "Next, import the `wrds` package in Python."
   ]
  },
  {
   "cell_type": "code",
   "execution_count": 2,
   "metadata": {},
   "outputs": [],
   "source": [
    "# packages\n",
    "import wrds"
   ]
  },
  {
   "cell_type": "markdown",
   "metadata": {},
   "source": [
    "You can establish a connection with the **WRDS** server by inserting your username in the following Python command. If you have\n",
    "already created a .pgpass file, this line will look for the file that contains this username and your corresponding password."
   ]
  },
  {
   "cell_type": "code",
   "execution_count": 3,
   "metadata": {},
   "outputs": [
    {
     "name": "stdout",
     "output_type": "stream",
     "text": [
      "Loading library list...\n",
      "Done\n"
     ]
    }
   ],
   "source": [
    "conn = wrds.Connection(wrds_username='best-user-ever')\n",
    "# AT THIS POINT, EXPECT A DUO PUSH"
   ]
  },
  {
   "cell_type": "markdown",
   "metadata": {},
   "source": [
    "Note that the first time you perform this step, it will trigger __two-factor-authentication__. Please follow the instructions here to set this up: https://wrds-www.wharton.upenn.edu/pages/about/log-in-to-wrds-using-two-factor-authentication/ \n",
    "\n",
    "\n",
    "You can test your connection with:\n"
   ]
  },
  {
   "cell_type": "code",
   "execution_count": 5,
   "metadata": {},
   "outputs": [],
   "source": [
    "df = conn.get_table('crsp', 'dsf', obs=10)"
   ]
  },
  {
   "cell_type": "code",
   "execution_count": 6,
   "metadata": {},
   "outputs": [
    {
     "data": {
      "text/plain": [
       "Index(['cusip', 'permno', 'permco', 'issuno', 'hexcd', 'hsiccd', 'date',\n",
       "       'bidlo', 'askhi', 'prc', 'vol', 'ret', 'bid', 'ask', 'shrout', 'cfacpr',\n",
       "       'cfacshr', 'openprc', 'numtrd', 'retx'],\n",
       "      dtype='object')"
      ]
     },
     "execution_count": 6,
     "metadata": {},
     "output_type": "execute_result"
    }
   ],
   "source": [
    "# print column names\n",
    "df.columns"
   ]
  },
  {
   "cell_type": "code",
   "execution_count": 7,
   "metadata": {},
   "outputs": [
    {
     "data": {
      "text/plain": [
       "10"
      ]
     },
     "execution_count": 7,
     "metadata": {},
     "output_type": "execute_result"
    }
   ],
   "source": [
    "# print number of rows\n",
    "len(df)"
   ]
  },
  {
   "cell_type": "markdown",
   "metadata": {},
   "source": [
    "### <span style=\"color:purple\">_Connecting through R_</span>\n",
    "\n",
    "To connect to the **WRDS** through R, you'll need to install the `RPostgres` library. \n",
    "\n",
    "(Note that the lines in the cell below are used to call R in this jupyter notebook.)"
   ]
  },
  {
   "cell_type": "code",
   "execution_count": 20,
   "metadata": {},
   "outputs": [
    {
     "name": "stdout",
     "output_type": "stream",
     "text": [
      "The rpy2.ipython extension is already loaded. To reload it, use:\n",
      "  %reload_ext rpy2.ipython\n"
     ]
    }
   ],
   "source": [
    "import rpy2\n",
    "%load_ext rpy2.ipython"
   ]
  },
  {
   "cell_type": "markdown",
   "metadata": {},
   "source": [
    "Within R, type:"
   ]
  },
  {
   "cell_type": "code",
   "execution_count": 22,
   "metadata": {},
   "outputs": [],
   "source": [
    "%%R\n",
    "install.packages(\"RPostgres\")"
   ]
  },
  {
   "cell_type": "markdown",
   "metadata": {},
   "source": [
    "Next, load the library."
   ]
  },
  {
   "cell_type": "code",
   "execution_count": 21,
   "metadata": {},
   "outputs": [],
   "source": [
    "%%R\n",
    "library(RPostgres)"
   ]
  },
  {
   "cell_type": "markdown",
   "metadata": {},
   "source": [
    "Finally, create a connection with the following:"
   ]
  },
  {
   "cell_type": "code",
   "execution_count": 23,
   "metadata": {},
   "outputs": [],
   "source": [
    "%%R\n",
    "wrds <- dbConnect(Postgres(),\n",
    "                  host='wrds-pgdata.wharton.upenn.edu',\n",
    "                  port=9737,\n",
    "                  dbname='wrds',\n",
    "                  sslmode='require',\n",
    "                  user='ambreen')\n",
    "# AT THIS POINT, EXPECT A DUO PUSH"
   ]
  },
  {
   "cell_type": "markdown",
   "metadata": {},
   "source": [
    "You can test your connection with:"
   ]
  },
  {
   "cell_type": "code",
   "execution_count": 24,
   "metadata": {},
   "outputs": [],
   "source": [
    "%%R\n",
    "res <- dbSendQuery(wrds, \"select * from crsp.dsf\")\n",
    "data <- dbFetch(res, n=10)\n"
   ]
  },
  {
   "cell_type": "code",
   "execution_count": 25,
   "metadata": {},
   "outputs": [
    {
     "name": "stdout",
     "output_type": "stream",
     "text": [
      " [1] \"cusip\"   \"permno\"  \"permco\"  \"issuno\"  \"hexcd\"   \"hsiccd\"  \"date\"   \n",
      " [8] \"bidlo\"   \"askhi\"   \"prc\"     \"vol\"     \"ret\"     \"bid\"     \"ask\"    \n",
      "[15] \"shrout\"  \"cfacpr\"  \"cfacshr\" \"openprc\" \"numtrd\"  \"retx\"   \n"
     ]
    }
   ],
   "source": [
    "%%R\n",
    "# print column names\n",
    "names(data)"
   ]
  },
  {
   "cell_type": "code",
   "execution_count": 26,
   "metadata": {},
   "outputs": [
    {
     "name": "stdout",
     "output_type": "stream",
     "text": [
      "[1] 10\n"
     ]
    }
   ],
   "source": [
    "%%R\n",
    "# print number of rows\n",
    "nrow(data)"
   ]
  }
 ],
 "metadata": {
  "kernelspec": {
   "display_name": "wrds_env",
   "language": "python",
   "name": "python3"
  },
  "language_info": {
   "codemirror_mode": {
    "name": "ipython",
    "version": 3
   },
   "file_extension": ".py",
   "mimetype": "text/x-python",
   "name": "python",
   "nbconvert_exporter": "python",
   "pygments_lexer": "ipython3",
   "version": "3.10.14"
  }
 },
 "nbformat": 4,
 "nbformat_minor": 2
}
